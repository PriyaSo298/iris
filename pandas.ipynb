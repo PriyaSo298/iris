{
 "cells": [
  {
   "cell_type": "markdown",
   "id": "25894045",
   "metadata": {},
   "source": [
    "# Code For remove zero values"
   ]
  },
  {
   "cell_type": "code",
   "execution_count": null,
   "id": "f879753c",
   "metadata": {},
   "outputs": [],
   "source": [
    "zero_val=[\"BloodPressure\",\"SkinThickness\",\"Insulin\",\"BMI\",\"DiabetesPedigreeFunction\",\"Age\"]\n",
    "for i in zero_val:\n",
    "    df[i]=df[i].apply(lambda x:df[i].mean() if x==0 else x)"
   ]
  },
  {
   "cell_type": "code",
   "execution_count": null,
   "id": "3a51a25d",
   "metadata": {},
   "outputs": [],
   "source": [
    "zero_val=[\"BloodPressure\",\"SkinThickness\",\"Insulin\",\"BMI\",\"DiabetesPedigreeFunction\",\"Age\"]\n",
    "for i in zero_val:\n",
    "    df[i]=df[i].replace(0,df[i].mean())"
   ]
  },
  {
   "cell_type": "code",
   "execution_count": null,
   "id": "7b9639ab",
   "metadata": {},
   "outputs": [],
   "source": [
    "import numpy as np\n",
    "df['Glucose']=np.where(df['Glucose']==0,df['Glucose'].median(),df['Glucose'])"
   ]
  },
  {
   "cell_type": "markdown",
   "id": "b2361bb3",
   "metadata": {},
   "source": [
    "# Code for mapping "
   ]
  },
  {
   "cell_type": "code",
   "execution_count": null,
   "id": "faafccec",
   "metadata": {},
   "outputs": [],
   "source": [
    "df[\"species\"]=df[\"species\"].map({\"setosa\":1,\"virginica\":2,\"versicolor\":3})"
   ]
  },
  {
   "cell_type": "markdown",
   "id": "d4c39c3e",
   "metadata": {},
   "source": [
    "# Stting Upper Limit and Lower Limit"
   ]
  },
  {
   "cell_type": "code",
   "execution_count": null,
   "id": "3f12b2cd",
   "metadata": {},
   "outputs": [],
   "source": [
    "Q3=z[\"Price\"].quantile(q=0.75)\n",
    "Q1=z[\"Price\"].quantile(q=0.25)\n",
    "IQR=Q3-Q1\n",
    "IQR_ll=int(Q1-1.5*IQR)\n",
    "IQR_ul=int(Q3+1.5*IQR)"
   ]
  },
  {
   "cell_type": "markdown",
   "id": "c368c012",
   "metadata": {},
   "source": [
    "# Date object to month ,day and year column"
   ]
  },
  {
   "cell_type": "code",
   "execution_count": null,
   "id": "c6cea737",
   "metadata": {},
   "outputs": [],
   "source": [
    "##Fetaure Engineering Process\n",
    "final_df['Date']=final_df['Date_of_Journey'].str.split('/').str[0]\n",
    "final_df['Month']=final_df['Date_of_Journey'].str.split('/').str[1]\n",
    "final_df['Year']=final_df['Date_of_Journey'].str.split('/').str[2]"
   ]
  },
  {
   "cell_type": "code",
   "execution_count": null,
   "id": "39ee7753",
   "metadata": {},
   "outputs": [],
   "source": [
    "df[\"Date\"]=df['Date_of_Journey'].apply(lambda x:x.split(\"/\")[0])\n",
    "df[\"Month\"]=df['Date_of_Journey'].apply(lambda x:x.split(\"/\")[1])\n",
    "df[\"Year\"]=df['Date_of_Journey'].apply(lambda x:x.split(\"/\")[2])"
   ]
  },
  {
   "cell_type": "code",
   "execution_count": null,
   "id": "c4d95c01",
   "metadata": {},
   "outputs": [],
   "source": [
    "final_df['Date']=final_df['Date'].astype(int)\n",
    "final_df['Month']=final_df['Month'].astype(int)\n",
    "final_df['Year']=final_df['Year'].astype(int)"
   ]
  },
  {
   "cell_type": "markdown",
   "id": "8518a9c0",
   "metadata": {},
   "source": [
    "# Feature scalling\n"
   ]
  },
  {
   "cell_type": "markdown",
   "id": "2328ab4e",
   "metadata": {},
   "source": [
    "### LabelEncoder covert all categoriacl column in numberical values"
   ]
  },
  {
   "cell_type": "code",
   "execution_count": null,
   "id": "f7effb86",
   "metadata": {},
   "outputs": [],
   "source": [
    "from sklearn.preprocessing import LabelEncoder\n",
    "labelencoder=LabelEncoder()\n",
    "final_df['Airline']=labelencoder.fit_transform(final_df['Airline'])\n",
    "final_df['Source']=labelencoder.fit_transform(final_df['Source'])\n",
    "final_df['Destination']=labelencoder.fit_transform(final_df['Destination'])\n",
    "final_df['Additional_Info']=labelencoder.fit_transform(final_df['Additional_Info'])"
   ]
  },
  {
   "cell_type": "markdown",
   "id": "8c0c441c",
   "metadata": {},
   "source": [
    "# Access csv file with using pandas"
   ]
  },
  {
   "cell_type": "code",
   "execution_count": null,
   "id": "8faad23a",
   "metadata": {},
   "outputs": [],
   "source": [
    "import csv\n",
    "\n",
    "with open(\"C:\\\\Users\\\\Palak\\\\Documents\\\\Hosehold_data.csv\",\"r\") as file:\n",
    "    df=csv.reader(file,delimiter=\",\")\n",
    "    for i in df:\n",
    "        print(i)"
   ]
  },
  {
   "cell_type": "markdown",
   "id": "467bf77a",
   "metadata": {},
   "source": [
    "# convert json file to csv"
   ]
  },
  {
   "cell_type": "code",
   "execution_count": null,
   "id": "a0906e04",
   "metadata": {},
   "outputs": [],
   "source": [
    "\n",
    "import json\n",
    "import csv\n",
    " \n",
    "with open('G:\\Akhil\\jsonoutput.json') as json_file:\n",
    "    jsondata = json.load(json_file)\n",
    " \n",
    "data_file = open('G:\\Akhil\\jsonoutput.csv', 'w', newline='')\n",
    "csv_writer = csv.writer(data_file)\n",
    " \n",
    "count = 0\n",
    "for data in jsondata:\n",
    "    if count == 0:\n",
    "        header = data.keys()\n",
    "        csv_writer.writerow(header)\n",
    "        count += 1\n",
    "    csv_writer.writerow(data.values())\n",
    " \n",
    "data_file.close()"
   ]
  }
 ],
 "metadata": {
  "kernelspec": {
   "display_name": "Python 3 (ipykernel)",
   "language": "python",
   "name": "python3"
  },
  "language_info": {
   "codemirror_mode": {
    "name": "ipython",
    "version": 3
   },
   "file_extension": ".py",
   "mimetype": "text/x-python",
   "name": "python",
   "nbconvert_exporter": "python",
   "pygments_lexer": "ipython3",
   "version": "3.9.7"
  }
 },
 "nbformat": 4,
 "nbformat_minor": 5
}
